{
 "cells": [
  {
   "cell_type": "code",
   "execution_count": 1,
   "id": "c10047b7",
   "metadata": {},
   "outputs": [],
   "source": [
    "from bs4 import BeautifulSoup\n",
    "\n",
    "html_content = '''\n",
    "            <html>\n",
    "            <head>\n",
    "            <title>Example</title>\n",
    "            </head><body>\n",
    "            <p class=\"paragraph\">This is the Pragraph</p>\n",
    "            <p class=\"paragraph\">This is the Pragraph 2</p>\n",
    "            <ul><li>Item 1</li>\n",
    "            <l1>Item</li>\n",
    "            </ul>\n",
    "            </body>\n",
    "            </html>\n",
    "'''\n",
    "\n"
   ]
  },
  {
   "cell_type": "code",
   "execution_count": 2,
   "id": "831bd279",
   "metadata": {},
   "outputs": [],
   "source": [
    "soup = BeautifulSoup(html_content,\"html.parser\")"
   ]
  },
  {
   "cell_type": "code",
   "execution_count": 3,
   "id": "9d6e2ee5",
   "metadata": {},
   "outputs": [
    {
     "data": {
      "text/plain": [
       "'Example'"
      ]
     },
     "execution_count": 3,
     "metadata": {},
     "output_type": "execute_result"
    }
   ],
   "source": [
    "title = soup.title.text\n",
    "title\n"
   ]
  },
  {
   "cell_type": "code",
   "execution_count": 4,
   "id": "7b5bbb7f",
   "metadata": {},
   "outputs": [
    {
     "data": {
      "text/plain": [
       "'This is the Pragraph'"
      ]
     },
     "execution_count": 4,
     "metadata": {},
     "output_type": "execute_result"
    }
   ],
   "source": [
    "para = soup.p.text\n",
    "para\n"
   ]
  },
  {
   "cell_type": "markdown",
   "id": "3da59154",
   "metadata": {},
   "source": [
    "# Navigation"
   ]
  },
  {
   "cell_type": "code",
   "execution_count": 5,
   "id": "73c53d67",
   "metadata": {},
   "outputs": [
    {
     "data": {
      "text/plain": [
       "<p class=\"paragraph\">This is the Pragraph</p>"
      ]
     },
     "execution_count": 5,
     "metadata": {},
     "output_type": "execute_result"
    }
   ],
   "source": [
    "para = soup.find('p')\n",
    "para"
   ]
  },
  {
   "cell_type": "code",
   "execution_count": 9,
   "id": "4b0b904e",
   "metadata": {},
   "outputs": [
    {
     "name": "stdout",
     "output_type": "stream",
     "text": [
      "This is the Pragraph\n",
      "This is the Pragraph 2\n"
     ]
    }
   ],
   "source": [
    "para2 = soup.find_all('p')\n",
    "para2\n",
    "for p in para2 :\n",
    "    print(p.text)"
   ]
  },
  {
   "cell_type": "code",
   "execution_count": 10,
   "id": "ad43e219",
   "metadata": {},
   "outputs": [],
   "source": [
    "from bs4 import BeautifulSoup \n",
    "\n",
    "html_doc = '''\n",
    "            <html>\n",
    "            <body>\n",
    "                <div class='my_class'>\n",
    "                <h1>Welcome to BeautifulSoup</h1>\n",
    "                \n",
    "            <p >This is an example Pragraph</p>\n",
    "\n",
    "            <ul><li>Item 1</li>\n",
    "            <l1>Item2</li>\n",
    "            <li>Item3</li>\n",
    "            </ul>\n",
    "            </div>\n",
    "            </body>\n",
    "            </html>\n",
    "'''\n"
   ]
  },
  {
   "cell_type": "code",
   "execution_count": 12,
   "id": "815a90ef",
   "metadata": {},
   "outputs": [],
   "source": [
    "soup = BeautifulSoup(html_doc,'html.parser')"
   ]
  },
  {
   "cell_type": "code",
   "execution_count": 14,
   "id": "db880bcd",
   "metadata": {},
   "outputs": [
    {
     "name": "stdout",
     "output_type": "stream",
     "text": [
      "parent of <h1>:\n",
      "<div class=\"my_class\">\n",
      "<h1>Welcome to BeautifulSoup</h1>\n",
      "<p>This is an example Pragraph</p>\n",
      "<ul><li>Item 1</li>\n",
      "<l1>Item2\n",
      "<li>Item3</li>\n",
      "</l1></ul>\n",
      "</div>\n"
     ]
    }
   ],
   "source": [
    "h1 = soup.h1\n",
    "parent_div = h1.parent\n",
    "print(\"parent of <h1>:\")\n",
    "print(parent_div)"
   ]
  },
  {
   "cell_type": "code",
   "execution_count": 17,
   "id": "c33d2d94",
   "metadata": {},
   "outputs": [
    {
     "name": "stdout",
     "output_type": "stream",
     "text": [
      "Previous sibling element of <ul>\n",
      "[<h1>Welcome to BeautifulSoup</h1>]\n"
     ]
    }
   ],
   "source": [
    "paragraph = soup.p\n",
    "previous_sibling  = paragraph.find_previous_siblings()\n",
    "print(\"Previous sibling element of <ul>\")\n",
    "print(previous_sibling)"
   ]
  },
  {
   "cell_type": "code",
   "execution_count": 19,
   "id": "102539af",
   "metadata": {},
   "outputs": [
    {
     "name": "stdout",
     "output_type": "stream",
     "text": [
      "Previous sibling element of <ul>\n",
      "[]\n"
     ]
    }
   ],
   "source": [
    "ul = soup.ul\n",
    "next_siblings  = ul.find_next_siblings()\n",
    "print(\"Previous sibling element of <ul>\")\n",
    "print(next_siblings)"
   ]
  },
  {
   "cell_type": "markdown",
   "id": "3320f175",
   "metadata": {},
   "source": [
    "# Child  Navigation"
   ]
  },
  {
   "cell_type": "code",
   "execution_count": 20,
   "id": "e57da337",
   "metadata": {},
   "outputs": [
    {
     "name": "stdout",
     "output_type": "stream",
     "text": [
      "child elements of <div> :\n",
      "\n",
      "\n",
      "<h1>Welcome to BeautifulSoup</h1>\n",
      "\n",
      "\n",
      "<p>This is an example Pragraph</p>\n",
      "\n",
      "\n",
      "<ul><li>Item 1</li>\n",
      "<l1>Item2\n",
      "<li>Item3</li>\n",
      "</l1></ul>\n",
      "\n",
      "\n"
     ]
    }
   ],
   "source": [
    "div = soup.div\n",
    "children = div.children \n",
    "\n",
    "print(\"child elements of <div> :\")\n",
    "\n",
    "for child in children :\n",
    "    print(child)"
   ]
  },
  {
   "cell_type": "code",
   "execution_count": 22,
   "id": "a0c815b2",
   "metadata": {},
   "outputs": [
    {
     "data": {
      "text/plain": [
       "[<div class=\"my_class\">\n",
       " <h1>Welcome to BeautifulSoup</h1>\n",
       " <p>This is an example Pragraph</p>\n",
       " <ul><li>Item 1</li>\n",
       " <l1>Item2\n",
       " <li>Item3</li>\n",
       " </l1></ul>\n",
       " </div>]"
      ]
     },
     "execution_count": 22,
     "metadata": {},
     "output_type": "execute_result"
    }
   ],
   "source": [
    "elements = soup.find_all('div',class_= 'my_class')\n",
    "elements"
   ]
  },
  {
   "cell_type": "code",
   "execution_count": null,
   "id": "a0d92bec",
   "metadata": {},
   "outputs": [],
   "source": []
  }
 ],
 "metadata": {
  "kernelspec": {
   "display_name": "Python 3 (ipykernel)",
   "language": "python",
   "name": "python3"
  },
  "language_info": {
   "codemirror_mode": {
    "name": "ipython",
    "version": 3
   },
   "file_extension": ".py",
   "mimetype": "text/x-python",
   "name": "python",
   "nbconvert_exporter": "python",
   "pygments_lexer": "ipython3",
   "version": "3.9.16"
  }
 },
 "nbformat": 4,
 "nbformat_minor": 5
}
