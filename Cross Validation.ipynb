{
 "cells": [
  {
   "cell_type": "code",
   "execution_count": 4,
   "id": "29167f83",
   "metadata": {},
   "outputs": [],
   "source": [
    "from sklearn.model_selection import cross_val_score\n",
    "from sklearn.tree import DecisionTreeClassifier \n",
    "from sklearn.datasets import load_iris\n",
    "\n",
    "iris = load_iris()\n",
    "X = iris.data\n",
    "y =iris.target \n",
    "\n",
    "clf = DecisionTreeClassifier()\n"
   ]
  },
  {
   "cell_type": "code",
   "execution_count": 6,
   "id": "18c10b51",
   "metadata": {},
   "outputs": [
    {
     "name": "stdout",
     "output_type": "stream",
     "text": [
      "Mean accurcacy: 0.9600000000000002\n"
     ]
    }
   ],
   "source": [
    "scores = cross_val_score(clf,X,y)\n",
    "mean_accuracy_score = scores.mean()\n",
    "\n",
    "print(\"Mean accurcacy:\" , mean_accuracy_score) "
   ]
  },
  {
   "cell_type": "code",
   "execution_count": 7,
   "id": "75a85556",
   "metadata": {},
   "outputs": [],
   "source": [
    "scores = cross_val_score(clf,X,y,cv=10)\n",
    "mean_accuracy_score =  scores.mean()"
   ]
  },
  {
   "cell_type": "code",
   "execution_count": null,
   "id": "c2415ddc",
   "metadata": {},
   "outputs": [],
   "source": []
  }
 ],
 "metadata": {
  "kernelspec": {
   "display_name": "Python 3 (ipykernel)",
   "language": "python",
   "name": "python3"
  },
  "language_info": {
   "codemirror_mode": {
    "name": "ipython",
    "version": 3
   },
   "file_extension": ".py",
   "mimetype": "text/x-python",
   "name": "python",
   "nbconvert_exporter": "python",
   "pygments_lexer": "ipython3",
   "version": "3.9.12"
  }
 },
 "nbformat": 4,
 "nbformat_minor": 5
}
