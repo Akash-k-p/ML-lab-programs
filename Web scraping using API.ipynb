{
 "cells": [
  {
   "cell_type": "code",
   "execution_count": 12,
   "id": "ed5cf1f4",
   "metadata": {},
   "outputs": [],
   "source": [
    "import requests\n",
    "from datetime import datetime, timedelta \n",
    "\n",
    "def get_weather_data(api_key,city) :\n",
    "    end_date = datetime.now().strftime(\"%Y-%m-%d\")\n",
    "    start_date = (datetime.now()-timedelta(days=10)).strftime(\"%Y-%m-%d\") \n",
    "    base_url = f\"https://api.weatherapi.com/v1/history.json?key={api_key}&q={city}&dt={start_date}&end_dt={end_date}\"\n",
    "    response = requests.get(base_url)\n",
    "    data = response.json()\n",
    "    \n",
    "    if \"error\" in data :\n",
    "         print(f\"error occured :{data['error']['message']}\")\n",
    "    else:\n",
    "        forecast_days = data['forecast']['forecastday']\n",
    "        for day in forecast_days :\n",
    "            date = day['date']\n",
    "            temperature = day['day']['avgtemp_c']\n",
    "            humidity = day['day']['avghumidity']\n",
    "            weather_description = day['day']['condition']['text']\n",
    "            \n",
    "            print(f\"weather in {city} on {date}:\")\n",
    "            print(f\"Temperature:{temperature}C\")\n",
    "            print(f\"Humidity:{humidity}%\")\n",
    "            print(f\"Weather description: {weather_description}\")\n",
    "            print(\"-----------------------\")\n",
    "            "
   ]
  },
  {
   "cell_type": "code",
   "execution_count": 13,
   "id": "51c2ed16",
   "metadata": {},
   "outputs": [
    {
     "name": "stdout",
     "output_type": "stream",
     "text": [
      "weather in Karkala on 2023-06-10:\n",
      "Temperature:28.0C\n",
      "Humidity:78.0%\n",
      "Weather description: Moderate or heavy rain shower\n",
      "-----------------------\n",
      "weather in Karkala on 2023-06-11:\n",
      "Temperature:28.2C\n",
      "Humidity:77.0%\n",
      "Weather description: Moderate or heavy rain shower\n",
      "-----------------------\n",
      "weather in Karkala on 2023-06-12:\n",
      "Temperature:28.3C\n",
      "Humidity:78.0%\n",
      "Weather description: Moderate or heavy rain shower\n",
      "-----------------------\n",
      "weather in Karkala on 2023-06-13:\n",
      "Temperature:28.3C\n",
      "Humidity:78.0%\n",
      "Weather description: Light rain shower\n",
      "-----------------------\n",
      "weather in Karkala on 2023-06-14:\n",
      "Temperature:28.1C\n",
      "Humidity:79.0%\n",
      "Weather description: Moderate or heavy rain shower\n",
      "-----------------------\n",
      "weather in Karkala on 2023-06-15:\n",
      "Temperature:28.7C\n",
      "Humidity:75.0%\n",
      "Weather description: Light rain shower\n",
      "-----------------------\n",
      "weather in Karkala on 2023-06-16:\n",
      "Temperature:29.2C\n",
      "Humidity:72.0%\n",
      "Weather description: Patchy rain possible\n",
      "-----------------------\n",
      "weather in Karkala on 2023-06-17:\n",
      "Temperature:29.4C\n",
      "Humidity:74.0%\n",
      "Weather description: Light rain shower\n",
      "-----------------------\n",
      "weather in Karkala on 2023-06-18:\n",
      "Temperature:28.3C\n",
      "Humidity:75.0%\n",
      "Weather description: Moderate or heavy rain shower\n",
      "-----------------------\n",
      "weather in Karkala on 2023-06-19:\n",
      "Temperature:27.5C\n",
      "Humidity:80.0%\n",
      "Weather description: Torrential rain shower\n",
      "-----------------------\n",
      "weather in Karkala on 2023-06-20:\n",
      "Temperature:27.0C\n",
      "Humidity:82.0%\n",
      "Weather description: Torrential rain shower\n",
      "-----------------------\n"
     ]
    }
   ],
   "source": [
    "api_key = \"fd5fe12632df4e39bc084807232006\"\n",
    "city = \"Karkala\"\n",
    "get_weather_data(api_key,city)"
   ]
  },
  {
   "cell_type": "code",
   "execution_count": null,
   "id": "2113a8c3",
   "metadata": {},
   "outputs": [],
   "source": []
  },
  {
   "cell_type": "code",
   "execution_count": null,
   "id": "00096cfe",
   "metadata": {},
   "outputs": [],
   "source": []
  }
 ],
 "metadata": {
  "kernelspec": {
   "display_name": "Python 3 (ipykernel)",
   "language": "python",
   "name": "python3"
  },
  "language_info": {
   "codemirror_mode": {
    "name": "ipython",
    "version": 3
   },
   "file_extension": ".py",
   "mimetype": "text/x-python",
   "name": "python",
   "nbconvert_exporter": "python",
   "pygments_lexer": "ipython3",
   "version": "3.9.16"
  }
 },
 "nbformat": 4,
 "nbformat_minor": 5
}
